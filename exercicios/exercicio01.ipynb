{
 "cells": [
  {
   "cell_type": "markdown",
   "metadata": {
    "collapsed": true,
    "pycharm": {
     "name": "#%% md\n"
    }
   },
   "source": [
    "## Exercícios - Aula 01"
   ]
  },
  {
   "cell_type": "markdown",
   "metadata": {
    "collapsed": false,
    "pycharm": {
     "name": "#%% md\n"
    }
   },
   "source": [
    "1) Escolha um número entre 1 e 10 e armazene ele numa variável chamada *segredo*. Escolha outro número entre 1 e 10 novamente e salve ele numa variável chamada *chute*. Depois, escreva testes condicionais usando *if*, *else* e *elif* para exibir a mensagem \"muito menor\" se *chute* é menor do que *segredo*, \"muito maior\" se *chute* é maior do que *segredo* e \"na mosca\" se *chute* for igual à *segredo*.\n",
    "\n",
    "2) Escreva uma cadeia de instrucões *if*-*elif*-*else* que determine o estágio da vida de uma pessoa. Defina um valor para a variável *idade* e então:\n",
    "- Se a pessoa tiver menos de 2 anos de idade, mostre uma mensagem dizendo que ela ainda é um bebê.\n",
    "- Se a pessoa tiver pelo menos 2 anos, mas menos de 4, mostre uma mensagem dizendo que ela é uma crianca.\n",
    "- Se a pessoa tiver pelo menos 4 anos, mas menos de 13, mostre uma mensagem dizendo que ela é um(a) goroto(a).\n",
    "- Se a pessoa tiver pelo menos 13 anos, mas menos de 20, mostre uma mensagem dizendo que ela é um(a) adolescente.\n",
    "- Se a pessoa tiver pelo menos 20 anos, mas menos de 65, mostre uma mensagem dizendo que ela é um(a) adulto(a).\n",
    "- Se a pessoa tiver 65 anos ou mais, mostre uma mensagem dizendo que ela é uma pessoa idosa.\n",
    "\n",
    "3) Crie uma lista com cinco ou mais nomes de usuários, incluindo o nome \"admin\". Suponha que você esteja escrevendo um código que exibirá uma saudacão a cada usuário depois que eles fizerem login em um site. Percorra a lista com um laco e mostre uma saudacão para cada usuário:\n",
    "- Se o nome do usuário for \"admin\", mostre uma saudacão especial, por exemplo, \"Olá admin, gostaria de ver o relatório de status?\"\n",
    "- Caso contrário, mostre a saudacão genérica, como \"Olá José, obrigado por fazer login novamente\".\n",
    "\n",
    "4) A partir do exercício anterior, modifique o código criado para acrescentar um teste if que verifica se a lista de usuarios está vazia.\n",
    "- Se a lista de usuários estiver vazia, mostre a mensagem \"Precisamos encontrar alguns usuários!\". Remova todos os nomes de usuários da lista e certifique-se de que essa mensagem aparecerá.\n",
    "\n",
    "5) Crie um programa que simule o modo como os sites garantem que todos tenham um nome de usuário único.\n",
    "- Crie uma lista chamada *current_users* com cinco ou mais nomes de usuários\n",
    "- Crie uma list chamada *new_users* com cinco nomes de usuários. Garanta que dois dos novos usuários também estejam na lista *current_users*\n",
    "- Percorra a lista *new_users* com um laco para ver se cada novo nome de usuário já foi usado. Em caso afirmativo, mostre uma mensagem afirmando que a pessoa deverá fornecer um novo nome. Se um usuário não foi usado, apresente uma mensagem dizendo que o nome do usuário está disponível.\n",
    "- Certifique-se de que sua comparacão não levará em conta as diferencas entre letras maiúsculas e minúsculas. Se \"Pedro\" foi usado, \"PEDRO\" não deverá ser aceito.\n",
    "\n",
    "6) Números ordinais indicam sua posicão em uma lista, por exemplo, 1st, 2nd, em inglês. A maioria dos números ordinais nessa língua termina com th, exceto, 1, 2 e 3.\n",
    "- Armazene os números de 1 a 9 em uma lista.\n",
    "- Pecorra essa lista com um laco.\n",
    "- Use uma cadeia de instrucões *if*-*elif*-*else* que exiba a terminacão apropriada para cada número ordinal. Sua saída deverá conter \"1st 2nd 3rd 4th 5th 6th 7th 8th 9th\" e cada resultado deve estar em uma linha separada\n"
   ]
  },
  {
   "cell_type": "code",
   "execution_count": 1,
   "metadata": {},
   "outputs": [
    {
     "name": "stdout",
     "output_type": "stream",
     "text": [
      "muito menor\n"
     ]
    }
   ],
   "source": [
    "'''\n",
    "Questão 1\n",
    "Escolha um número entre 1 e 10 e armazene ele numa variável chamada segredo.\n",
    "Escolha outro número entre 1 e 10 novamente e salve ele numa variável chamada chute.\n",
    "Depois, escreva testes condicionais usando if, else e elif para exibir a mensagem \"muito menor\" se chute é menor do que segredo, \"muito maior\" se chute é maior do que segredo e \"na mosca\" se chute for igual à segredo.\n",
    "'''\n",
    "segredo = 6\n",
    "chute = 2\n",
    "if chute < segredo:\n",
    "    print( \"muito menor\")\n",
    "elif chute > segredo:\n",
    "    print( \"muito maior\")\n",
    "else:\n",
    "    print(\"na mosca\")"
   ]
  },
  {
   "cell_type": "code",
   "execution_count": 2,
   "metadata": {},
   "outputs": [
    {
     "name": "stdout",
     "output_type": "stream",
     "text": [
      "Você é um(a) adulto\n"
     ]
    }
   ],
   "source": [
    "'''\n",
    "Questão 2\n",
    "Escreva uma cadeia de instrucões if-elif-else que determine o estágio da vida de uma pessoa. \n",
    "Defina um valor para a variável idade e então:\n",
    "Se a pessoa tiver menos de 2 anos de idade, mostre uma mensagem dizendo que ela ainda é um bebê.\n",
    "Se a pessoa tiver pelo menos 2 anos, mas menos de 4, mostre uma mensagem dizendo que ela é uma crianca.\n",
    "Se a pessoa tiver pelo menos 4 anos, mas menos de 13, mostre uma mensagem dizendo que ela é um(a) goroto(a).\n",
    "Se a pessoa tiver pelo menos 13 anos, mas menos de 20, mostre uma mensagem dizendo que ela é um(a) adolescente.\n",
    "Se a pessoa tiver pelo menos 20 anos, mas menos de 65, mostre uma mensagem dizendo que ela é um(a) adulto(a).\n",
    "Se a pessoa tiver 65 anos ou mais, mostre uma mensagem dizendo que ela é uma pessoa idosa.\n",
    "'''\n",
    "idade = 42\n",
    "if idade < 2:\n",
    "    print(\"Você ainda é um bebê\")\n",
    "elif (idade >= 2) and (idade < 4):\n",
    "    print(\"Você é uma criança\")\n",
    "elif (idade >= 4) and (idade < 13):\n",
    "    print(\"Você é um(a) garoto(a)\")\n",
    "elif (idade >= 13) and (idade < 20):\n",
    "    print(\"Você é um(a) adolescente\")\n",
    "elif (idade >= 20) and (idade < 65):\n",
    "    print(\"Você é um(a) adulto\")\n",
    "else:\n",
    "    print(\"Você é idoso(a)\")"
   ]
  },
  {
   "cell_type": "code",
   "execution_count": 9,
   "metadata": {},
   "outputs": [
    {
     "name": "stdout",
     "output_type": "stream",
     "text": [
      "Olá denis, obrigado por fazer login novamente\n",
      "Olá bruna, obrigado por fazer login novamente\n",
      "Olá beatriz, obrigado por fazer login novamente\n",
      "Olá gian, obrigado por fazer login novamente\n",
      "Olá admin, gostaria de ver o relatório de status?\n"
     ]
    }
   ],
   "source": [
    "'''\n",
    "Questão 3\n",
    "Crie uma lista com cinco ou mais nomes de usuários, incluindo o nome \"admin\".\n",
    "Suponha que você esteja escrevendo um código que exibirá uma saudacão a cada usuário depois que eles fizerem login em um site.\n",
    "Percorra a lista com um laco e mostre uma saudacão para cada usuário:\n",
    "Se o nome do usuário for \"admin\", mostre uma saudacão especial, por exemplo, \"Olá admin, gostaria de ver o relatório de status?\"\n",
    "Caso contrário, mostre a saudacão genérica, como \"Olá José, obrigado por fazer login novamente\".\n",
    "'''\n",
    "\n",
    "users = ['denis', 'bruna', 'beatriz', 'gian', 'admin']\n",
    "for user in users:\n",
    "    if user == ('admin'):\n",
    "        print('Olá {}, gostaria de ver o relatório de status?' .format(user))\n",
    "    else:\n",
    "        print('Olá {}, obrigado por fazer login novamente' .format(user))"
   ]
  },
  {
   "cell_type": "code",
   "execution_count": 37,
   "metadata": {},
   "outputs": [
    {
     "name": "stdout",
     "output_type": "stream",
     "text": [
      "Precisamos encontrar alguns usuários!\n"
     ]
    }
   ],
   "source": [
    "'''\n",
    "Questão 4\n",
    "A partir do exercício anterior, modifique o código criado para acrescentar um teste if que verifica se a lista de usuarios está vazia.\n",
    "Se a lista de usuários estiver vazia, mostre a mensagem \"Precisamos encontrar alguns usuários!\".\n",
    "Remova todos os nomes de usuários da lista e certifique-se de que essa mensagem aparecerá.\n",
    "'''\n",
    "users = []\n",
    "for user in users:\n",
    "    if user == ('admin'):\n",
    "        print('Olá {}, gostaria de ver o relatório de status?' .format(user))\n",
    "    else:\n",
    "        print('Olá {}, obrigado por fazer login novamente' .format(user))\n",
    "if users.__len__() != 0:\n",
    "    print('\\nA lista de usuários está populada')\n",
    "else:\n",
    "    print('Precisamos encontrar alguns usuários!')\n"
   ]
  },
  {
   "cell_type": "code",
   "execution_count": 13,
   "metadata": {},
   "outputs": [
    {
     "name": "stdout",
     "output_type": "stream",
     "text": [
      "Olá rafael, você precisa fornecer um novo nome porque este já econtra-se em uso.\n",
      "Olá fabio, você precisa fornecer um novo nome porque este já econtra-se em uso.\n",
      "\n",
      "\n",
      "Olá marcelo, seu nome está disponível para uso.\n",
      "Olá priscila, seu nome está disponível para uso.\n",
      "Olá victor, seu nome está disponível para uso.\n"
     ]
    }
   ],
   "source": [
    "'''\n",
    "Questao 5\n",
    "Crie um programa que simule o modo como os sites garantem que todos tenham um nome de usuário único.\n",
    "Crie uma lista chamada current_users com cinco ou mais nomes de usuários\n",
    "Crie uma list chamada new_users com cinco nomes de usuários. Garanta que dois dos novos usuários também estejam na lista current_users\n",
    "Percorra a lista new_users com um laco para ver se cada novo nome de usuário já foi usado. Em caso afirmativo, mostre uma mensagem afirmando que a pessoa deverá fornecer um novo nome. Se um usuário não foi usado, apresente uma mensagem dizendo que o nome do usuário está disponível.\n",
    "Certifique-se de que sua comparacão não levará em conta as diferencas entre letras maiúsculas e minúsculas. Se \"Pedro\" foi usado, \"PEDRO\" não deverá ser aceito.\n",
    "'''\n",
    "#Lista usuários atuais com tratamento de case\n",
    "current_users = ['maria', 'rafael', 'thiago', 'pedro', 'fabio']\n",
    "lowercurrent_users = []\n",
    "for cusers in current_users:\n",
    "    lowercurrent_users.append(cusers.lower())\n",
    "current_users = lowercurrent_users\n",
    "\n",
    "#lista de novos usuários com tratamento de case\n",
    "new_users = ['FABIO', 'marcelo', 'priscila', 'RAFAEL', 'victor']\n",
    "lowernew_users = []\n",
    "for nusers in new_users:\n",
    "    lowernew_users.append(nusers.lower())\n",
    "new_users = lowernew_users\n",
    "\n",
    "#Validação de usuários em uso e mensagem para utilizar um novo nome\n",
    "for i in current_users:\n",
    "    for j in new_users:\n",
    "        if (i == j):\n",
    "            repeated_users = (i)\n",
    "            print('Olá {}, você precisa fornecer um novo nome porque este já econtra-se em uso.' .format(repeated_users))\n",
    "\n",
    "#Pulando linha para tornar a saída mais amigável\n",
    "print('\\n')\n",
    "\n",
    "#Mensagem para os novos usuários informando que o nome utilizado encontra-se disponível\n",
    "tratcusers = set(current_users)\n",
    "tratnusers = set(new_users)\n",
    "enabled_users = (tratnusers - tratcusers)\n",
    "for nomes in enabled_users:\n",
    "    print('Olá {}, seu nome está disponível para uso.' .format(nomes))"
   ]
  },
  {
   "cell_type": "code",
   "execution_count": 110,
   "metadata": {},
   "outputs": [
    {
     "name": "stdout",
     "output_type": "stream",
     "text": [
      "1 st\n",
      "2 nd\n",
      "3 rd\n",
      "4 th\n",
      "5 th\n",
      "6 th\n",
      "7 th\n",
      "8 th\n",
      "9 th\n"
     ]
    }
   ],
   "source": [
    "'''\n",
    "Números ordinais indicam sua posicão em uma lista, por exemplo, 1st, 2nd, em inglês.\n",
    "A maioria dos números ordinais nessa língua termina com th, exceto, 1, 2 e 3.\n",
    "Armazene os números de 1 a 9 em uma lista.\n",
    "Pecorra essa lista com um laco.\n",
    "Use uma cadeia de instrucões *if*-*elif*-*else* que exiba a terminacão apropriada para cada número ordinal.\n",
    "Sua saída deverá conter \"1st 2nd 3rd 4th 5th 6th 7th 8th 9th\" e cada resultado deve estar em uma linha separada\n",
    "'''\n",
    "ordinais = [1, 2, 3, 4, 5, 6, 7, 8, 9]\n",
    "for valor in (ordinais):\n",
    "    posicao = valor - 1\n",
    "    if valor == 1:\n",
    "        print(ordinais[posicao] , 'st')\n",
    "    elif valor == 2: \n",
    "        print(ordinais[posicao] , 'nd')\n",
    "    elif valor == 3: \n",
    "        print(ordinais[posicao] , 'rd')\n",
    "    else: \n",
    "        print(ordinais[posicao] , 'th')"
   ]
  }
 ],
 "metadata": {
  "kernelspec": {
   "display_name": "Python 3",
   "language": "python",
   "name": "python3"
  },
  "language_info": {
   "codemirror_mode": {
    "name": "ipython",
    "version": 3
   },
   "file_extension": ".py",
   "mimetype": "text/x-python",
   "name": "python",
   "nbconvert_exporter": "python",
   "pygments_lexer": "ipython3",
   "version": "3.10.4"
  },
  "vscode": {
   "interpreter": {
    "hash": "3ad933181bd8a04b432d3370b9dc3b0662ad032c4dfaa4e4f1596c548f763858"
   }
  }
 },
 "nbformat": 4,
 "nbformat_minor": 0
}
